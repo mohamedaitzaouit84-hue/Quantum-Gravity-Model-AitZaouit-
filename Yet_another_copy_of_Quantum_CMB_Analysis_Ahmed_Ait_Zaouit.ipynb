{
  "nbformat": 4,
  "nbformat_minor": 0,
  "metadata": {
    "colab": {
      "provenance": [],
      "authorship_tag": "ABX9TyMuBtCHWspM5cTOJ2pUEYwl",
      "include_colab_link": true
    },
    "kernelspec": {
      "name": "python3",
      "display_name": "Python 3"
    },
    "language_info": {
      "name": "python"
    }
  },
  "cells": [
    {
      "cell_type": "markdown",
      "metadata": {
        "id": "view-in-github",
        "colab_type": "text"
      },
      "source": [
        "<a href=\"https://colab.research.google.com/github/mohamedaitzaouit84-hue/Quantum-Gravity-Model-AitZaouit-/blob/main/Yet_another_copy_of_Quantum_CMB_Analysis_Ahmed_Ait_Zaouit.ipynb\" target=\"_parent\"><img src=\"https://colab.research.google.com/assets/colab-badge.svg\" alt=\"Open In Colab\"/></a>"
      ]
    },
    {
      "cell_type": "code",
      "execution_count": null,
      "metadata": {
        "colab": {
          "base_uri": "https://localhost:8080/",
          "height": 315
        },
        "id": "Q4kiIVnLY09n",
        "outputId": "3066ffc4-e847-4f4f-cf2b-c84d821b5e96"
      },
      "outputs": [
        {
          "output_type": "error",
          "ename": "NameError",
          "evalue": "name 'cmb_data' is not defined",
          "traceback": [
            "\u001b[0;31m---------------------------------------------------------------------------\u001b[0m",
            "\u001b[0;31mNameError\u001b[0m                                 Traceback (most recent call last)",
            "\u001b[0;32m/tmp/ipython-input-1732408285.py\u001b[0m in \u001b[0;36m<cell line: 0>\u001b[0;34m()\u001b[0m\n\u001b[1;32m     12\u001b[0m \u001b[0;34m\u001b[0m\u001b[0m\n\u001b[1;32m     13\u001b[0m \u001b[0;31m# تطبيق النموذج\u001b[0m\u001b[0;34m\u001b[0m\u001b[0;34m\u001b[0m\u001b[0m\n\u001b[0;32m---> 14\u001b[0;31m \u001b[0mell\u001b[0m \u001b[0;34m=\u001b[0m \u001b[0mcmb_data\u001b[0m\u001b[0;34m[\u001b[0m\u001b[0;34m:\u001b[0m\u001b[0;34m,\u001b[0m\u001b[0;36m0\u001b[0m\u001b[0;34m]\u001b[0m\u001b[0;34m\u001b[0m\u001b[0;34m\u001b[0m\u001b[0m\n\u001b[0m\u001b[1;32m     15\u001b[0m \u001b[0mDl_standard\u001b[0m \u001b[0;34m=\u001b[0m \u001b[0mcmb_data\u001b[0m\u001b[0;34m[\u001b[0m\u001b[0;34m:\u001b[0m\u001b[0;34m,\u001b[0m\u001b[0;36m1\u001b[0m\u001b[0;34m]\u001b[0m\u001b[0;34m\u001b[0m\u001b[0;34m\u001b[0m\u001b[0m\n\u001b[1;32m     16\u001b[0m \u001b[0mDl_quantum\u001b[0m \u001b[0;34m=\u001b[0m \u001b[0mquantum_correction\u001b[0m\u001b[0;34m(\u001b[0m\u001b[0mell\u001b[0m\u001b[0;34m,\u001b[0m \u001b[0mDl_standard\u001b[0m\u001b[0;34m)\u001b[0m\u001b[0;34m\u001b[0m\u001b[0;34m\u001b[0m\u001b[0m\n",
            "\u001b[0;31mNameError\u001b[0m: name 'cmb_data' is not defined"
          ]
        }
      ],
      "source": [
        "\n",
        "# 4. النموذج الكمي-النسبوي (إعداد: أحمد أيت زاويت)\n",
        "def quantum_correction(ell, Dl, beta=9.2e3, gamma=5.2e-8):\n",
        "    \"\"\"\n",
        "    تطبيق التصحيحات الكمية على طيف CMB\n",
        "\n",
        "    المعلمات:\n",
        "    beta : معامل تصحيح الجاذبية الكمية (R²)\n",
        "    gamma : معامل حلقات الجاذبية الكمية (LQG)\n",
        "    \"\"\"\n",
        "    correction = 1 + beta*(ell/1000)**2*np.exp(-ell/2000) + gamma*np.log(ell+1)\n",
        "    return Dl * correction\n",
        "\n",
        "# تطبيق النموذج\n",
        "ell = cmb_data[:,0]\n",
        "Dl_standard = cmb_data[:,1]\n",
        "Dl_quantum = quantum_correction(ell, Dl_standard)\n",
        "\n",
        "# حفظ النتائج\n",
        "np.savetxt('CMB_Corrected_Ahmed_Ait_Zaouit.txt',\n",
        "           np.column_stack([ell, Dl_standard, Dl_quantum]),\n",
        "           header=f\"ℓ Dℓ_standard Dℓ_quantum\\nنموذج أحمد أيت زاويت - {np.datetime64('today')}\")"
      ]
    },
    {
      "cell_type": "code",
      "metadata": {
        "colab": {
          "base_uri": "https://localhost:8080/"
        },
        "id": "bdda173d",
        "outputId": "dd0cc987-7385-4b96-87ea-cf73ed045d8b"
      },
      "source": [
        "\n",
        "import numpy as np\n",
        "\n",
        "# إنشاء بيانات افتراضية إذا لم يوجد الملف\n",
        "try:\n",
        "    cmb_data = np.loadtxt('CMB_Data.txt')\n",
        "except FileNotFoundError:\n",
        "    print(\"تم استخدام بيانات افتراضية (إعداد: أحمد أيت زاويت)\")\n",
        "    ell = np.arange(2, 2501)\n",
        "    Dl = 1000 * ell * (ell + 1) / (2 * np.pi)\n",
        "    cmb_data = np.column_stack([ell, Dl])"
      ],
      "execution_count": null,
      "outputs": [
        {
          "output_type": "stream",
          "name": "stdout",
          "text": [
            "تم استخدام بيانات افتراضية (إعداد: أحمد أيت زاويت)\n"
          ]
        }
      ]
    }
  ]
}